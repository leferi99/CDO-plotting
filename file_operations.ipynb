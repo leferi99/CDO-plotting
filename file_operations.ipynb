{
 "cells": [
  {
   "cell_type": "code",
   "execution_count": 1,
   "id": "05b3d593-d38f-4da1-a3c0-b77e1a11029b",
   "metadata": {},
   "outputs": [
    {
     "name": "stdout",
     "output_type": "stream",
     "text": [
      "WARNING: Unable to locate the DREAMi executable. Try to set the 'DREAMPATH' environment variable.\n"
     ]
    }
   ],
   "source": [
    "import h5py\n",
    "import os\n",
    "import CDOconcat\n",
    "\n",
    "\n",
    "def newest_output(path):\n",
    "    files = os.listdir(path)\n",
    "    paths = [os.path.join(path, basename) for basename in files if (basename.endswith('.h5') and basename.startswith('output_'))]\n",
    "    return max(paths, key=os.path.getmtime)\n",
    "\n",
    "def timeinfo(folders):\n",
    "    for folder in folders:\n",
    "        foldername = folder.split(\"/\")[-2]\n",
    "        fnames = []\n",
    "        try:\n",
    "            newest = newest_output(folder)\n",
    "            numoffiles = int(newest.split(\"_\")[-2])\n",
    "        except:\n",
    "            print(\"Finding newest output unsuccesful\")\n",
    "\n",
    "        for i in range(1, numoffiles + 1):\n",
    "            fname = folder + \"output_\" + str(i) + \"_.h5\"\n",
    "            fnames.append(fname)\n",
    "\n",
    "        concat = CDOconcat.CustomConcatTimeOnly(fnames)\n",
    "        print(foldername + \" \" + '{0:.1f}'.format(concat.timegrid_ms[-1]))\n",
    "\n",
    "folders = [\"C:/Users/lefer/Documents/Egyetem/RE Projekt/Current/Data/ndc2_30/\",\n",
    "           \"C:/Users/lefer/Documents/Egyetem/RE Projekt/Current/Data/ndc2_100/\",\n",
    "           \"C:/Users/lefer/Documents/Egyetem/RE Projekt/Current/Data/ndc2_300/\",\n",
    "           \"C:/Users/lefer/Documents/Egyetem/RE Projekt/Current/Data/ndc2_1000/\",\n",
    "           \"C:/Users/lefer/Documents/Egyetem/RE Projekt/Current/Data/ndc3_30/\",\n",
    "           \"C:/Users/lefer/Documents/Egyetem/RE Projekt/Current/Data/ndc3_100/\",\n",
    "           \"C:/Users/lefer/Documents/Egyetem/RE Projekt/Current/Data/ndc3_300/\",\n",
    "           \"C:/Users/lefer/Documents/Egyetem/RE Projekt/Current/Data/ndc3_1000/\",\n",
    "           \"C:/Users/lefer/Documents/Egyetem/RE Projekt/Current/Data/ndc4_30/\",\n",
    "           \"C:/Users/lefer/Documents/Egyetem/RE Projekt/Current/Data/ndc4_100/\",\n",
    "           \"C:/Users/lefer/Documents/Egyetem/RE Projekt/Current/Data/ndc4_300/\",\n",
    "           \"C:/Users/lefer/Documents/Egyetem/RE Projekt/Current/Data/ndc4_1000/\"]\n"
   ]
  },
  {
   "cell_type": "code",
   "execution_count": 2,
   "id": "789f0b54-0223-4ecc-bd2b-65960df482b1",
   "metadata": {},
   "outputs": [
    {
     "name": "stdout",
     "output_type": "stream",
     "text": [
      "ndc2_30 500.1\n",
      "ndc2_100 500.1\n",
      "ndc2_300 500.1\n",
      "ndc2_1000 500.8\n",
      "ndc3_30 225.1\n",
      "ndc3_100 175.1\n",
      "ndc3_300 175.1\n",
      "ndc3_1000 175.1\n",
      "ndc4_30 75.1\n",
      "ndc4_100 75.1\n",
      "ndc4_300 75.1\n",
      "ndc4_1000 75.1\n"
     ]
    }
   ],
   "source": [
    "timeinfo(folders)"
   ]
  },
  {
   "cell_type": "code",
   "execution_count": null,
   "id": "3866dcbd-7aab-4164-8352-4cf5a62df743",
   "metadata": {},
   "outputs": [],
   "source": []
  }
 ],
 "metadata": {
  "kernelspec": {
   "display_name": "Python 3 (ipykernel)",
   "language": "python",
   "name": "python3"
  },
  "language_info": {
   "codemirror_mode": {
    "name": "ipython",
    "version": 3
   },
   "file_extension": ".py",
   "mimetype": "text/x-python",
   "name": "python",
   "nbconvert_exporter": "python",
   "pygments_lexer": "ipython3",
   "version": "3.11.2"
  }
 },
 "nbformat": 4,
 "nbformat_minor": 5
}
